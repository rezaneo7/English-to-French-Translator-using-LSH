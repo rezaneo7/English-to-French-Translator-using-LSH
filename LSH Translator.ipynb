{
 "cells": [
  {
   "cell_type": "markdown",
   "metadata": {},
   "source": [
    "# Data Prepration"
   ]
  },
  {
   "cell_type": "markdown",
   "metadata": {},
   "source": [
    "# Loading pickles"
   ]
  },
  {
   "cell_type": "code",
   "execution_count": 1,
   "metadata": {},
   "outputs": [],
   "source": [
    "import pickle\n",
    "\n",
    "# english embeddings\n",
    "en_embeddings = pickle.load( open(\"en_embeddings.p\", \"rb\") )\n",
    "en_keys = list(en_embeddings.keys())\n",
    "\n",
    "# french embeddings\n",
    "fr_embeddings = pickle.load( open(\"fr_embeddings.p\", \"rb\") )\n",
    "fr_keys = list(fr_embeddings.keys())"
   ]
  },
  {
   "cell_type": "markdown",
   "metadata": {},
   "source": [
    "# Loading Train and Test"
   ]
  },
  {
   "cell_type": "markdown",
   "metadata": {},
   "source": [
    "loading test and train and making unique words that has multiple french meaning"
   ]
  },
  {
   "cell_type": "code",
   "execution_count": 4,
   "metadata": {},
   "outputs": [],
   "source": [
    "import pandas as pd\n",
    "import numpy as np\n",
    "\n",
    "train_df = pd.read_csv(\"en-fr.train.txt\", sep=\" \", header=None, names = ['en', 'fr'])\n",
    "train_df = train_df.groupby('en').apply(lambda x: x if len(x) == 1 else x.iloc[[-1]]).reset_index(drop=True)\n",
    "\n",
    "test_df = pd.read_csv(\"en-fr.test.txt\", sep=\" \", header=None, names = ['en', 'fr'])\n",
    "test_df = test_df.groupby('en').apply(lambda x: x if len(x) == 1 else x.iloc[[-1]]).reset_index(drop=True)\n"
   ]
  },
  {
   "cell_type": "markdown",
   "metadata": {},
   "source": [
    "# Converting Train and Test To Matrix"
   ]
  },
  {
   "cell_type": "markdown",
   "metadata": {},
   "source": [
    "train and test are just words, so we use pickles to convert them to vectors and hold them in matrix"
   ]
  },
  {
   "cell_type": "code",
   "execution_count": 5,
   "metadata": {},
   "outputs": [],
   "source": [
    "# arrays for holding train vectors\n",
    "train_en_mat = np.array([]).reshape(0, 300)\n",
    "train_fr_mat = np.array([]).reshape(0, 300)\n",
    "\n",
    "for i in range(len(train_df)):\n",
    "    en_word = train_df.iloc[i][0]\n",
    "    fr_word = train_df.iloc[i][1]\n",
    "    \n",
    "    if (en_word in en_keys) and (fr_word in fr_keys):\n",
    "        \n",
    "        train_en_mat = np.vstack((train_en_mat, np.array(en_embeddings[en_word])))\n",
    "        train_fr_mat = np.vstack((train_fr_mat, np.array(fr_embeddings[fr_word])))\n",
    "\n",
    "# arrays for holding test vectors\n",
    "test_en_mat = np.array([]).reshape(0, 300)\n",
    "test_fr_mat = np.array([]).reshape(0, 300)\n",
    "test_df_h = test_df\n",
    "for i in range(len(test_df)):\n",
    "    en_word = test_df.iloc[i][0]\n",
    "    fr_word = test_df.iloc[i][1]\n",
    "    \n",
    "    if (en_word in en_keys) and (fr_word in fr_keys):\n",
    "        \n",
    "        test_en_mat = np.vstack((test_en_mat, np.array(en_embeddings[en_word])))\n",
    "        test_fr_mat = np.vstack((test_fr_mat, np.array(fr_embeddings[fr_word])))\n",
    "    else:\n",
    "        test_df_h = test_df_h.drop([i])"
   ]
  },
  {
   "cell_type": "markdown",
   "metadata": {},
   "source": [
    "# Gradient Descent"
   ]
  },
  {
   "cell_type": "markdown",
   "metadata": {},
   "source": [
    "code of gradient descent algorithm. In fit function we initialize random R array and in each iteration we update it to minimize the loss. In loss function we take two arrays and compute mse loss. In Gradient function we compute derivative of Loss base on R. In predict function we take test input and after converting it to french vector, we find similar vector in french vector to it. and in Score function we compute our guess"
   ]
  },
  {
   "cell_type": "code",
   "execution_count": 6,
   "metadata": {},
   "outputs": [],
   "source": [
    "import numpy as np\n",
    "from scipy.spatial.distance import cosine\n",
    "\n",
    "class GradientDescent:\n",
    "    def __init__(self, lr=0.1, num_iter=1000): \n",
    "        self.lr = lr\n",
    "        self.num_iter = num_iter\n",
    "\n",
    "    def loss(self, pred, Y):\n",
    "        \n",
    "        # difference of prediction and target\n",
    "        diff = pred - Y\n",
    "        \n",
    "        # sum of squares of diff matrix\n",
    "        sum_loss = sum([ element**2 for element in np.nditer(diff)])\n",
    "        \n",
    "        # return loss\n",
    "        return sum_loss / len(pred)\n",
    "    \n",
    "    def gradient(self, X, Y, R):\n",
    "        \n",
    "        # finding m (size of row of matrix X)\n",
    "        m = len(X)\n",
    "        \n",
    "        # calculating gradient matrix ( 2/m * X^T (XR - Y) )\n",
    "        grad = (2 / m ) * ( X.T @ ( X @ R - Y ) )\n",
    "        \n",
    "        return grad\n",
    "    \n",
    "    def fit (self, X, Y) :\n",
    "        \n",
    "        # initial value of R\n",
    "        R = np.random.random((X.shape[1], X.shape[1]))\n",
    "        \n",
    "        \n",
    "        for i in range(self.num_iter):\n",
    "            \n",
    "            # Predict matrx, it can also be rewrite like np.dot(X, R)\n",
    "            pred = X @ R\n",
    "            \n",
    "            # Computing loss\n",
    "            loss_val = self.loss(pred, Y)\n",
    "            \n",
    "            # Computing gradient \n",
    "            grad_mat = self.gradient(X, Y, R)\n",
    "            \n",
    "            # new R\n",
    "            R = R - self.lr * grad_mat\n",
    "            \n",
    "            # printing loss per iteration\n",
    "            if(i % 20 == 0):\n",
    "                print(\"Iteration \" + str(i) + \" loss = \" + str(loss_val))\n",
    "    \n",
    "        return R\n",
    "     \n",
    "      \n",
    "    def predict (self, Test_X, R) :\n",
    "        \n",
    "        # test prediction\n",
    "        test_pred = Test_X @ R\n",
    "        \n",
    "        # Nearest vector to test_pred\n",
    "        #Y_prime = np.array([]).reshape(0, 300)\n",
    "        Y_prime = []\n",
    "        for i in range(len(test_pred)):\n",
    "            \n",
    "            # holding nearest values\n",
    "            max_val = 0\n",
    "            max_key = 0\n",
    "            \n",
    "            # searching on all french vectors\n",
    "            for key in fr_embeddings.keys():\n",
    "                \n",
    "                # cosine sim \n",
    "                cosine_val = 1 - cosine(test_pred[i], fr_embeddings[key])\n",
    "                \n",
    "                # if this vector is more similar update nearest values\n",
    "                \n",
    "                if(cosine_val > max_val):\n",
    "                    max_val = cosine_val\n",
    "                    max_key = key\n",
    "            \n",
    "            # assign nearest value to each predicted vector\n",
    "            \n",
    "            #Y_prime = np.vstack((Y_prime, np.array(fr_embeddings[max_key])))\n",
    "            Y_prime.append(max_key)\n",
    "        \n",
    "        return Y_prime\n",
    "      \n",
    "      \n",
    "    def score (self, Y, Y_prime) :\n",
    "        # numbers of true predictions\n",
    "        true_predict = 0\n",
    "        for i in range(len(Y)):\n",
    "            \n",
    "            # if two vectors are completely the same\n",
    "            #if( int(cosine(Y[i], Y_prime[i])) == 1 ):\n",
    "            if( Y[i] == Y_prime[i] ):\n",
    "                true_predict += 1\n",
    "                \n",
    "        # returning score\n",
    "        return 100 * (true_predict / len(Y))\n",
    "    \n",
    "\n",
    "gd = GradientDescent(0.75, 450)"
   ]
  },
  {
   "cell_type": "markdown",
   "metadata": {},
   "source": [
    "# Training"
   ]
  },
  {
   "cell_type": "code",
   "execution_count": 7,
   "metadata": {},
   "outputs": [
    {
     "name": "stdout",
     "output_type": "stream",
     "text": [
      "Iteration 0 loss = 970.7303273194955\n",
      "Iteration 20 loss = 144.0962578275381\n",
      "Iteration 40 loss = 48.603680921960375\n",
      "Iteration 60 loss = 20.28164405375254\n",
      "Iteration 80 loss = 9.760331046800896\n",
      "Iteration 100 loss = 5.263076428418619\n",
      "Iteration 120 loss = 3.1351454580132487\n",
      "Iteration 140 loss = 2.046409901235168\n",
      "Iteration 160 loss = 1.454158369245238\n",
      "Iteration 180 loss = 1.1160344228538361\n",
      "Iteration 200 loss = 0.9154428025154071\n",
      "Iteration 220 loss = 0.7927065721138972\n",
      "Iteration 240 loss = 0.7156762630584025\n",
      "Iteration 260 loss = 0.666287849349573\n",
      "Iteration 280 loss = 0.6340347187912053\n",
      "Iteration 300 loss = 0.6126286959115064\n",
      "Iteration 320 loss = 0.5982150282855202\n",
      "Iteration 340 loss = 0.5883818312160999\n",
      "Iteration 360 loss = 0.5815928669702969\n",
      "Iteration 380 loss = 0.5768540181424539\n",
      "Iteration 400 loss = 0.5735127017880658\n",
      "Iteration 420 loss = 0.5711348672754093\n",
      "Iteration 440 loss = 0.5694282740397886\n"
     ]
    }
   ],
   "source": [
    "# train process\n",
    "R_gd = gd.fit(train_en_mat, train_fr_mat)"
   ]
  },
  {
   "cell_type": "markdown",
   "metadata": {},
   "source": [
    "# Prediction and Score"
   ]
  },
  {
   "cell_type": "code",
   "execution_count": 9,
   "metadata": {},
   "outputs": [
    {
     "name": "stdout",
     "output_type": "stream",
     "text": [
      "time of searching for similar vectors = 363.09102725982666\n",
      "test score = 42.767732962447845\n"
     ]
    }
   ],
   "source": [
    "import time\n",
    "\n",
    "start = time.time()\n",
    "\n",
    "# predicting translation in french and finding similar vectors from french pickles\n",
    "Y_prime = gd.predict(test_en_mat, R_gd)\n",
    "\n",
    "end = time.time()\n",
    "\n",
    "print(\"time of searching for similar vectors = \" + str(end-start))\n",
    "score_test = gd.score(list(test_df_h['fr']), Y_prime)\n",
    "\n",
    "print(\"test score = \" + str(score_test))"
   ]
  },
  {
   "cell_type": "markdown",
   "metadata": {},
   "source": [
    "# LSH"
   ]
  },
  {
   "cell_type": "markdown",
   "metadata": {},
   "source": [
    "# Shingling or Vectorizing"
   ]
  },
  {
   "cell_type": "markdown",
   "metadata": {},
   "source": [
    "this part is actually done by word2dec so we should'nt do anything"
   ]
  },
  {
   "cell_type": "markdown",
   "metadata": {},
   "source": [
    "# Random Hyperplanes - Hashing"
   ]
  },
  {
   "cell_type": "code",
   "execution_count": 31,
   "metadata": {},
   "outputs": [],
   "source": [
    "# convert a vector to sign(vector)\n",
    "def binary_conv(row):\n",
    "    \n",
    "    return [1 if x >= 0 else 0 for x in row]\n",
    "\n",
    "# convert a binary vector to int\n",
    "def bin2dec(row):\n",
    "    \n",
    "    return int(\"\".join(str(x) for x in row), 2)\n",
    "\n",
    "def similar_word(word, list_similar_vector, list_similar_keys):\n",
    "    \n",
    "    # holding nearest values\n",
    "    max_val = 0\n",
    "    max_key = 0\n",
    "        \n",
    "    for i in range(len(list_similar_keys)):\n",
    "\n",
    "        # cosine sim \n",
    "        cosine_val = 1 - cosine(word, list_similar_vector[i])\n",
    "\n",
    "        # if this vector is more similar update nearest values\n",
    "\n",
    "        if(cosine_val > max_val):\n",
    "            max_val = cosine_val\n",
    "            max_key = list_similar_keys[i]\n",
    "            \n",
    "    return max_key\n",
    "\n",
    "class LSH:\n",
    "    def __init__(self, num_planes=8, num_hashes=20): \n",
    "      \n",
    "        \n",
    "        # minimum is 8 due to question\n",
    "        self.num_planes = num_planes\n",
    "\n",
    "        # number of hash tables\n",
    "        self.num_hashes = num_hashes\n",
    "        \n",
    "        # signature matrix\n",
    "        self.signature_matrix = []\n",
    "        self.signature_matrix_keys = []\n",
    "        \n",
    "        # norm of planes (considering planes passing through origin)\n",
    "        self.norm_planes = []\n",
    "        \n",
    "    def random_hashing(self):\n",
    "        # search vector\n",
    "        french_vector = np.array(list(fr_embeddings.values()))\n",
    "\n",
    "        for i in range(self.num_hashes):\n",
    "\n",
    "            # generating norm of planes\n",
    "            self.norm_planes.append(np.random.normal(size = (self.num_planes, 300)))\n",
    "\n",
    "            # baskets\n",
    "            baskets_vector = {}\n",
    "            baskets_key = {}\n",
    "\n",
    "            # number of baskets\n",
    "            num_basket = 2 ** self.num_planes \n",
    "\n",
    "            # making a list for holding vectors\n",
    "            for j in range(num_basket):\n",
    "                baskets_vector[j] = []\n",
    "                baskets_key[j] = []\n",
    "\n",
    "            # finding side of each point from hyperplanes\n",
    "            side_vector = french_vector @ self.norm_planes[i].T\n",
    "\n",
    "            # convert it to binary\n",
    "            binary_side = np.apply_along_axis(binary_conv, 1, side_vector)\n",
    "\n",
    "            # convert binary to decimal as a hash value\n",
    "            hash_value = np.apply_along_axis(bin2dec, 1, binary_side)\n",
    "\n",
    "            # assign to baskets\n",
    "            for j in range(len(hash_value)):\n",
    "                baskets_vector[hash_value[j]].append(french_vector[j, :])\n",
    "                baskets_key[hash_value[j]].append(fr_keys[j])\n",
    "\n",
    "            self.signature_matrix.append(baskets_vector)\n",
    "            self.signature_matrix_keys.append(baskets_key)\n",
    "\n",
    "    \n",
    "    def search(self, search_words):\n",
    "    \n",
    "        # similar words list\n",
    "        sim_list = []\n",
    "      \n",
    "        for word in search_words:\n",
    "\n",
    "            # list of similar vectors to each word\n",
    "            list_similar_vector = []\n",
    "            list_similar_keys = []\n",
    "\n",
    "            for i in range(self.num_hashes):\n",
    "\n",
    "                # finding side of each search word from hyperplanes\n",
    "                side_vector = word @ self.norm_planes[i].T\n",
    "\n",
    "                # convert it to binary\n",
    "                binary_side = [1 if x >= 0 else 0 for x in side_vector]\n",
    "\n",
    "                # convert binary to decimal as a hash value\n",
    "                hash_value = int(\"\".join(str(x) for x in binary_side), 2) \n",
    "\n",
    "                # hash table for i-th hash \n",
    "                hash_table = self.signature_matrix[i]\n",
    "                hash_keys = self.signature_matrix_keys[i]\n",
    "\n",
    "                # related baskets to word\n",
    "                basket_vectors = hash_table[hash_value]\n",
    "                basket_keys = hash_keys[hash_value]\n",
    "\n",
    "                for j in range(len(basket_keys)):\n",
    "\n",
    "                    if(basket_keys[j] not in list_similar_keys):\n",
    "                        list_similar_keys.append(basket_keys[j])\n",
    "                        list_similar_vector.append(basket_vectors[j])\n",
    "                \n",
    "            sim_list.append(similar_word(word, list_similar_vector, list_similar_keys))\n",
    "\n",
    "        return sim_list\n"
   ]
  },
  {
   "cell_type": "markdown",
   "metadata": {},
   "source": [
    "# Search"
   ]
  },
  {
   "cell_type": "markdown",
   "metadata": {},
   "source": [
    "# Fixed number of Hyperplanes"
   ]
  },
  {
   "cell_type": "code",
   "execution_count": null,
   "metadata": {},
   "outputs": [],
   "source": [
    "# parameters to check\n",
    "number_hyperplanes = 8\n",
    "number_hashes = [1, 4, 8, 12, 16, 20, 25]\n",
    "\n",
    "# accuracy\n",
    "acc_list = []\n",
    "\n",
    "# time\n",
    "time_list = []\n",
    "\n",
    "# test prediction\n",
    "test_pred = test_en_mat @ R_gd\n",
    "\n",
    "for i in range(7):\n",
    "    \n",
    "    # lsh object\n",
    "    lsh = LSH(number_hyperplanes, number_hashes[i])\n",
    "    \n",
    "    # hash french pickles into buckets\n",
    "    lsh.random_hashing()\n",
    "    \n",
    "    start = time.time()\n",
    "    # search for similar words\n",
    "    Y_prime_lsh = lsh.search(test_pred)\n",
    "    \n",
    "    end = time.time()\n",
    "    time_list.append(end - start)\n",
    "    print(time_list[i])\n",
    "    \n",
    "    # score \n",
    "    score_test_lsh = gd.score(list(test_df_h['fr']), Y_prime_lsh)\n",
    "    acc_list.append(score_test_lsh)\n",
    "    print(acc_list[i])\n",
    "\n"
   ]
  },
  {
   "cell_type": "code",
   "execution_count": 19,
   "metadata": {},
   "outputs": [
    {
     "data": {
      "text/plain": [
       "Text(0, 0.5, 'Accuracy')"
      ]
     },
     "execution_count": 19,
     "metadata": {},
     "output_type": "execute_result"
    },
    {
     "data": {
      "image/png": "[encoded data removed]",
      "text/plain": [
       "<Figure size 432x288 with 1 Axes>"
      ]
     },
     "metadata": {
      "needs_background": "light"
     },
     "output_type": "display_data"
    },
    {
     "data": {
      "image/png": "[encoded data removed]",
      "text/plain": [
       "<Figure size 432x288 with 1 Axes>"
      ]
     },
     "metadata": {
      "needs_background": "light"
     },
     "output_type": "display_data"
    }
   ],
   "source": [
    "import matplotlib.pyplot as plt\n",
    "\n",
    "plt.figure()\n",
    "plt.scatter(number_hashes, time_list, s=100)\n",
    "plt.title(\"Time of search with planes = 8\")\n",
    "plt.xlabel(\"Number of Hashes\")\n",
    "plt.ylabel(\"time(second)\")\n",
    "\n",
    "\n",
    "plt.figure()\n",
    "plt.scatter(number_hashes, acc_list, s=100)\n",
    "plt.title(\"Accuracy of search with planes = 8\")\n",
    "plt.xlabel(\"Number of Hashes\")\n",
    "plt.ylabel(\"Accuracy\")"
   ]
  },
  {
   "cell_type": "markdown",
   "metadata": {},
   "source": [
    "# Fixed number of hash tables"
   ]
  },
  {
   "cell_type": "code",
   "execution_count": null,
   "metadata": {
    "scrolled": true
   },
   "outputs": [],
   "source": [
    "# parameters to check\n",
    "number_hyperplanes = [6, 7, 8, 12, 15]\n",
    "number_hashes = 15\n",
    "\n",
    "# accuracy\n",
    "acc_list = []\n",
    "\n",
    "# time\n",
    "time_list = []\n",
    "\n",
    "# test prediction\n",
    "test_pred = test_en_mat @ R_gd\n",
    "\n",
    "for i in range(5):\n",
    "    \n",
    "    # lsh object\n",
    "    lsh = LSH(number_hyperplanes[i], number_hashes)\n",
    "    \n",
    "    # hash french pickles into buckets\n",
    "    lsh.random_hashing()\n",
    "    \n",
    "    start = time.time()\n",
    "    # search for similar words\n",
    "    Y_prime_lsh = lsh.search(test_pred)\n",
    "    \n",
    "    end = time.time()\n",
    "    time_list.append(end - start)\n",
    "    print(time_list[i])\n",
    "    \n",
    "    # score \n",
    "    score_test_lsh = gd.score(list(test_df_h['fr']), Y_prime_lsh)\n",
    "    acc_list.append(score_test_lsh)\n",
    "    print(acc_list[i])"
   ]
  },
  {
   "cell_type": "code",
   "execution_count": 41,
   "metadata": {},
   "outputs": [
    {
     "data": {
      "text/plain": [
       "Text(0, 0.5, 'Accuracy')"
      ]
     },
     "execution_count": 41,
     "metadata": {},
     "output_type": "execute_result"
    },
    {
     "data": {
      "image/png": "[encoded data removed]",
      "text/plain": [
       "<Figure size 432x288 with 1 Axes>"
      ]
     },
     "metadata": {
      "needs_background": "light"
     },
     "output_type": "display_data"
    },
    {
     "data": {
      "image/png": "[encoded data removed]",
      "text/plain": [
       "<Figure size 432x288 with 1 Axes>"
      ]
     },
     "metadata": {
      "needs_background": "light"
     },
     "output_type": "display_data"
    }
   ],
   "source": [
    "import matplotlib.pyplot as plt\n",
    "\n",
    "plt.figure()\n",
    "plt.scatter(number_hyperplanes, time_list, s=100)\n",
    "plt.title(\"Time of search with number of hashes = 15\")\n",
    "plt.xlabel(\"Number of Planes\")\n",
    "plt.ylabel(\"time(second)\")\n",
    "\n",
    "\n",
    "plt.figure()\n",
    "plt.scatter(number_hyperplanes, acc_list, s=100)\n",
    "plt.title(\"Accuracy of search with number of hashes = 15\")\n",
    "plt.xlabel(\"Number of Planes\")\n",
    "plt.ylabel(\"Accuracy\")"
   ]
  },
  {
   "cell_type": "code",
   "execution_count": null,
   "metadata": {},
   "outputs": [],
   "source": []
  }
 ],
 "metadata": {
  "kernelspec": {
   "display_name": "Python 3",
   "language": "python",
   "name": "python3"
  },
  "language_info": {
   "codemirror_mode": {
    "name": "ipython",
    "version": 3
   },
   "file_extension": ".py",
   "mimetype": "text/x-python",
   "name": "python",
   "nbconvert_exporter": "python",
   "pygments_lexer": "ipython3",
   "version": "3.8.3"
  }
 },
 "nbformat": 4,
 "nbformat_minor": 4
}
